{
 "cells": [
  {
   "cell_type": "code",
   "execution_count": 38,
   "id": "424006eb",
   "metadata": {},
   "outputs": [
    {
     "name": "stdout",
     "output_type": "stream",
     "text": [
      "Defaulting to user installation because normal site-packages is not writeable\n",
      "Requirement already satisfied: pymysql in c:\\users\\rahul\\appdata\\roaming\\python\\python311\\site-packages (1.1.0)\n",
      "Note: you may need to restart the kernel to use updated packages.\n"
     ]
    }
   ],
   "source": [
    "pip install pymysql\n"
   ]
  },
  {
   "cell_type": "code",
   "execution_count": 39,
   "id": "f6724875",
   "metadata": {},
   "outputs": [],
   "source": [
    "import pandas as pd"
   ]
  },
  {
   "cell_type": "code",
   "execution_count": 40,
   "id": "b16fb99d",
   "metadata": {},
   "outputs": [],
   "source": [
    "import pymysql as sql\n",
    "db=sql.connect(host='localhost',user='root',password='Arun@7838@83',db='rkraj')"
   ]
  },
  {
   "cell_type": "code",
   "execution_count": 41,
   "id": "3cacab1a",
   "metadata": {},
   "outputs": [
    {
     "name": "stderr",
     "output_type": "stream",
     "text": [
      "C:\\Users\\rahul\\AppData\\Local\\Temp\\ipykernel_31932\\3675222037.py:1: UserWarning: pandas only supports SQLAlchemy connectable (engine/connection) or database string URI or sqlite3 DBAPI2 connection. Other DBAPI2 objects are not tested. Please consider using SQLAlchemy.\n",
      "  df2=pd.read_sql_query(\"select * from empoly ;\",db)\n"
     ]
    },
    {
     "data": {
      "text/html": [
       "<div>\n",
       "<style scoped>\n",
       "    .dataframe tbody tr th:only-of-type {\n",
       "        vertical-align: middle;\n",
       "    }\n",
       "\n",
       "    .dataframe tbody tr th {\n",
       "        vertical-align: top;\n",
       "    }\n",
       "\n",
       "    .dataframe thead th {\n",
       "        text-align: right;\n",
       "    }\n",
       "</style>\n",
       "<table border=\"1\" class=\"dataframe\">\n",
       "  <thead>\n",
       "    <tr style=\"text-align: right;\">\n",
       "      <th></th>\n",
       "      <th>id</th>\n",
       "      <th>name</th>\n",
       "      <th>lastname</th>\n",
       "      <th>age</th>\n",
       "      <th>salary</th>\n",
       "      <th>contact</th>\n",
       "      <th>E_Mail</th>\n",
       "    </tr>\n",
       "  </thead>\n",
       "  <tbody>\n",
       "    <tr>\n",
       "      <th>0</th>\n",
       "      <td>1010</td>\n",
       "      <td>rahul</td>\n",
       "      <td>singh</td>\n",
       "      <td>22</td>\n",
       "      <td>25000</td>\n",
       "      <td>NaN</td>\n",
       "      <td>None</td>\n",
       "    </tr>\n",
       "    <tr>\n",
       "      <th>1</th>\n",
       "      <td>1012</td>\n",
       "      <td>tarun</td>\n",
       "      <td>sharma</td>\n",
       "      <td>35</td>\n",
       "      <td>35000</td>\n",
       "      <td>NaN</td>\n",
       "      <td>None</td>\n",
       "    </tr>\n",
       "    <tr>\n",
       "      <th>2</th>\n",
       "      <td>1014</td>\n",
       "      <td>esha</td>\n",
       "      <td>chadda</td>\n",
       "      <td>30</td>\n",
       "      <td>40000</td>\n",
       "      <td>NaN</td>\n",
       "      <td>None</td>\n",
       "    </tr>\n",
       "    <tr>\n",
       "      <th>3</th>\n",
       "      <td>1016</td>\n",
       "      <td>aman</td>\n",
       "      <td>sharma</td>\n",
       "      <td>50</td>\n",
       "      <td>25000</td>\n",
       "      <td>NaN</td>\n",
       "      <td>None</td>\n",
       "    </tr>\n",
       "    <tr>\n",
       "      <th>4</th>\n",
       "      <td>1020</td>\n",
       "      <td>amar</td>\n",
       "      <td>khuran</td>\n",
       "      <td>30</td>\n",
       "      <td>60000</td>\n",
       "      <td>NaN</td>\n",
       "      <td>None</td>\n",
       "    </tr>\n",
       "    <tr>\n",
       "      <th>5</th>\n",
       "      <td>1018</td>\n",
       "      <td>monu</td>\n",
       "      <td>gautam</td>\n",
       "      <td>40</td>\n",
       "      <td>40000</td>\n",
       "      <td>NaN</td>\n",
       "      <td>None</td>\n",
       "    </tr>\n",
       "    <tr>\n",
       "      <th>6</th>\n",
       "      <td>1022</td>\n",
       "      <td>harsh</td>\n",
       "      <td>sharma</td>\n",
       "      <td>28</td>\n",
       "      <td>65000</td>\n",
       "      <td>NaN</td>\n",
       "      <td>None</td>\n",
       "    </tr>\n",
       "    <tr>\n",
       "      <th>7</th>\n",
       "      <td>1022</td>\n",
       "      <td>bunty</td>\n",
       "      <td>singh</td>\n",
       "      <td>20</td>\n",
       "      <td>20000</td>\n",
       "      <td>NaN</td>\n",
       "      <td>None</td>\n",
       "    </tr>\n",
       "    <tr>\n",
       "      <th>8</th>\n",
       "      <td>2020</td>\n",
       "      <td>deepak</td>\n",
       "      <td>sharma</td>\n",
       "      <td>20</td>\n",
       "      <td>25000</td>\n",
       "      <td>121145.0</td>\n",
       "      <td>None</td>\n",
       "    </tr>\n",
       "    <tr>\n",
       "      <th>9</th>\n",
       "      <td>2022</td>\n",
       "      <td>sandeep</td>\n",
       "      <td>chauhan</td>\n",
       "      <td>35</td>\n",
       "      <td>30000</td>\n",
       "      <td>1212546.0</td>\n",
       "      <td>None</td>\n",
       "    </tr>\n",
       "    <tr>\n",
       "      <th>10</th>\n",
       "      <td>2028</td>\n",
       "      <td>sonu</td>\n",
       "      <td>chadda</td>\n",
       "      <td>45</td>\n",
       "      <td>45000</td>\n",
       "      <td>1211435.0</td>\n",
       "      <td>None</td>\n",
       "    </tr>\n",
       "    <tr>\n",
       "      <th>11</th>\n",
       "      <td>2026</td>\n",
       "      <td>harsh</td>\n",
       "      <td>chauhan</td>\n",
       "      <td>45</td>\n",
       "      <td>65000</td>\n",
       "      <td>1213645.0</td>\n",
       "      <td>None</td>\n",
       "    </tr>\n",
       "  </tbody>\n",
       "</table>\n",
       "</div>"
      ],
      "text/plain": [
       "      id     name lastname  age  salary    contact E_Mail\n",
       "0   1010    rahul    singh   22   25000        NaN   None\n",
       "1   1012    tarun   sharma   35   35000        NaN   None\n",
       "2   1014     esha   chadda   30   40000        NaN   None\n",
       "3   1016     aman   sharma   50   25000        NaN   None\n",
       "4   1020     amar   khuran   30   60000        NaN   None\n",
       "5   1018     monu   gautam   40   40000        NaN   None\n",
       "6   1022    harsh   sharma   28   65000        NaN   None\n",
       "7   1022    bunty    singh   20   20000        NaN   None\n",
       "8   2020   deepak   sharma   20   25000   121145.0   None\n",
       "9   2022  sandeep  chauhan   35   30000  1212546.0   None\n",
       "10  2028     sonu   chadda   45   45000  1211435.0   None\n",
       "11  2026    harsh  chauhan   45   65000  1213645.0   None"
      ]
     },
     "execution_count": 41,
     "metadata": {},
     "output_type": "execute_result"
    }
   ],
   "source": [
    "df2=pd.read_sql_query(\"select * from empoly ;\",db)\n",
    "\n",
    "df2"
   ]
  },
  {
   "cell_type": "code",
   "execution_count": 42,
   "id": "cdae2b76",
   "metadata": {},
   "outputs": [],
   "source": [
    "# Map\n",
    "# apply\n",
    "# apply map"
   ]
  },
  {
   "cell_type": "code",
   "execution_count": 43,
   "id": "8258e9de",
   "metadata": {},
   "outputs": [
    {
     "data": {
      "text/html": [
       "<div>\n",
       "<style scoped>\n",
       "    .dataframe tbody tr th:only-of-type {\n",
       "        vertical-align: middle;\n",
       "    }\n",
       "\n",
       "    .dataframe tbody tr th {\n",
       "        vertical-align: top;\n",
       "    }\n",
       "\n",
       "    .dataframe thead th {\n",
       "        text-align: right;\n",
       "    }\n",
       "</style>\n",
       "<table border=\"1\" class=\"dataframe\">\n",
       "  <thead>\n",
       "    <tr style=\"text-align: right;\">\n",
       "      <th></th>\n",
       "      <th>Name</th>\n",
       "      <th>Hindi</th>\n",
       "      <th>sst</th>\n",
       "      <th>Science</th>\n",
       "      <th>Maths</th>\n",
       "      <th>Eng</th>\n",
       "    </tr>\n",
       "  </thead>\n",
       "  <tbody>\n",
       "    <tr>\n",
       "      <th>0</th>\n",
       "      <td>Raj</td>\n",
       "      <td>91</td>\n",
       "      <td>65</td>\n",
       "      <td>78</td>\n",
       "      <td>38</td>\n",
       "      <td>62</td>\n",
       "    </tr>\n",
       "    <tr>\n",
       "      <th>1</th>\n",
       "      <td>ravi</td>\n",
       "      <td>77</td>\n",
       "      <td>33</td>\n",
       "      <td>54</td>\n",
       "      <td>79</td>\n",
       "      <td>93</td>\n",
       "    </tr>\n",
       "    <tr>\n",
       "      <th>2</th>\n",
       "      <td>sonu</td>\n",
       "      <td>33</td>\n",
       "      <td>22</td>\n",
       "      <td>12</td>\n",
       "      <td>18</td>\n",
       "      <td>19</td>\n",
       "    </tr>\n",
       "    <tr>\n",
       "      <th>3</th>\n",
       "      <td>monu</td>\n",
       "      <td>67</td>\n",
       "      <td>69</td>\n",
       "      <td>34</td>\n",
       "      <td>47</td>\n",
       "      <td>53</td>\n",
       "    </tr>\n",
       "    <tr>\n",
       "      <th>4</th>\n",
       "      <td>rishi</td>\n",
       "      <td>79</td>\n",
       "      <td>47</td>\n",
       "      <td>93</td>\n",
       "      <td>79</td>\n",
       "      <td>52</td>\n",
       "    </tr>\n",
       "    <tr>\n",
       "      <th>5</th>\n",
       "      <td>esha</td>\n",
       "      <td>34</td>\n",
       "      <td>94</td>\n",
       "      <td>99</td>\n",
       "      <td>35</td>\n",
       "      <td>82</td>\n",
       "    </tr>\n",
       "    <tr>\n",
       "      <th>6</th>\n",
       "      <td>deepak</td>\n",
       "      <td>33</td>\n",
       "      <td>22</td>\n",
       "      <td>12</td>\n",
       "      <td>12</td>\n",
       "      <td>19</td>\n",
       "    </tr>\n",
       "    <tr>\n",
       "      <th>7</th>\n",
       "      <td>neeelam</td>\n",
       "      <td>95</td>\n",
       "      <td>89</td>\n",
       "      <td>58</td>\n",
       "      <td>57</td>\n",
       "      <td>57</td>\n",
       "    </tr>\n",
       "    <tr>\n",
       "      <th>8</th>\n",
       "      <td>bunty</td>\n",
       "      <td>41</td>\n",
       "      <td>41</td>\n",
       "      <td>58</td>\n",
       "      <td>33</td>\n",
       "      <td>75</td>\n",
       "    </tr>\n",
       "    <tr>\n",
       "      <th>9</th>\n",
       "      <td>vishal</td>\n",
       "      <td>43</td>\n",
       "      <td>62</td>\n",
       "      <td>58</td>\n",
       "      <td>83</td>\n",
       "      <td>39</td>\n",
       "    </tr>\n",
       "  </tbody>\n",
       "</table>\n",
       "</div>"
      ],
      "text/plain": [
       "      Name  Hindi  sst  Science  Maths  Eng\n",
       "0      Raj     91   65       78     38   62\n",
       "1     ravi     77   33       54     79   93\n",
       "2     sonu     33   22       12     18   19\n",
       "3     monu     67   69       34     47   53\n",
       "4    rishi     79   47       93     79   52\n",
       "5     esha     34   94       99     35   82\n",
       "6   deepak     33   22       12     12   19\n",
       "7  neeelam     95   89       58     57   57\n",
       "8    bunty     41   41       58     33   75\n",
       "9   vishal     43   62       58     83   39"
      ]
     },
     "execution_count": 43,
     "metadata": {},
     "output_type": "execute_result"
    }
   ],
   "source": [
    "df3 =pd.read_excel(r\"C:\\Users\\rahul\\Downloads\\Date1.xlsx\",'subjects')\n",
    "\n",
    "df3"
   ]
  },
  {
   "cell_type": "code",
   "execution_count": 44,
   "id": "dbe8d564",
   "metadata": {},
   "outputs": [
    {
     "data": {
      "text/plain": [
       "Index(['Name', 'Hindi', 'sst', 'Science', 'Maths', 'Eng'], dtype='object')"
      ]
     },
     "execution_count": 44,
     "metadata": {},
     "output_type": "execute_result"
    }
   ],
   "source": [
    "df3.columns"
   ]
  },
  {
   "cell_type": "code",
   "execution_count": 45,
   "id": "c1b1376a",
   "metadata": {},
   "outputs": [
    {
     "data": {
      "text/plain": [
       "0    334\n",
       "1    336\n",
       "2    104\n",
       "3    270\n",
       "4    350\n",
       "5    344\n",
       "6     98\n",
       "7    356\n",
       "8    248\n",
       "9    285\n",
       "dtype: int64"
      ]
     },
     "execution_count": 45,
     "metadata": {},
     "output_type": "execute_result"
    }
   ],
   "source": [
    "t_1=df3[['Hindi', 'sst', 'Science', 'Maths', 'Eng']].apply(sum,axis=1)\n",
    "t_1"
   ]
  },
  {
   "cell_type": "code",
   "execution_count": 46,
   "id": "a85916ec",
   "metadata": {},
   "outputs": [
    {
     "data": {
      "text/plain": [
       "[334, 336, 104, 270, 350, 344, 98, 356, 248, 285]"
      ]
     },
     "execution_count": 46,
     "metadata": {},
     "output_type": "execute_result"
    }
   ],
   "source": [
    "t_2 =list(t_1)\n",
    "t_2"
   ]
  },
  {
   "cell_type": "code",
   "execution_count": 47,
   "id": "1fe1cef2",
   "metadata": {},
   "outputs": [],
   "source": [
    "df3['Total']=t_2"
   ]
  },
  {
   "cell_type": "code",
   "execution_count": 48,
   "id": "54b6755f",
   "metadata": {},
   "outputs": [
    {
     "data": {
      "text/html": [
       "<div>\n",
       "<style scoped>\n",
       "    .dataframe tbody tr th:only-of-type {\n",
       "        vertical-align: middle;\n",
       "    }\n",
       "\n",
       "    .dataframe tbody tr th {\n",
       "        vertical-align: top;\n",
       "    }\n",
       "\n",
       "    .dataframe thead th {\n",
       "        text-align: right;\n",
       "    }\n",
       "</style>\n",
       "<table border=\"1\" class=\"dataframe\">\n",
       "  <thead>\n",
       "    <tr style=\"text-align: right;\">\n",
       "      <th></th>\n",
       "      <th>Name</th>\n",
       "      <th>Hindi</th>\n",
       "      <th>sst</th>\n",
       "      <th>Science</th>\n",
       "      <th>Maths</th>\n",
       "      <th>Eng</th>\n",
       "      <th>Total</th>\n",
       "    </tr>\n",
       "  </thead>\n",
       "  <tbody>\n",
       "    <tr>\n",
       "      <th>0</th>\n",
       "      <td>Raj</td>\n",
       "      <td>91</td>\n",
       "      <td>65</td>\n",
       "      <td>78</td>\n",
       "      <td>38</td>\n",
       "      <td>62</td>\n",
       "      <td>334</td>\n",
       "    </tr>\n",
       "    <tr>\n",
       "      <th>1</th>\n",
       "      <td>ravi</td>\n",
       "      <td>77</td>\n",
       "      <td>33</td>\n",
       "      <td>54</td>\n",
       "      <td>79</td>\n",
       "      <td>93</td>\n",
       "      <td>336</td>\n",
       "    </tr>\n",
       "    <tr>\n",
       "      <th>2</th>\n",
       "      <td>sonu</td>\n",
       "      <td>33</td>\n",
       "      <td>22</td>\n",
       "      <td>12</td>\n",
       "      <td>18</td>\n",
       "      <td>19</td>\n",
       "      <td>104</td>\n",
       "    </tr>\n",
       "    <tr>\n",
       "      <th>3</th>\n",
       "      <td>monu</td>\n",
       "      <td>67</td>\n",
       "      <td>69</td>\n",
       "      <td>34</td>\n",
       "      <td>47</td>\n",
       "      <td>53</td>\n",
       "      <td>270</td>\n",
       "    </tr>\n",
       "    <tr>\n",
       "      <th>4</th>\n",
       "      <td>rishi</td>\n",
       "      <td>79</td>\n",
       "      <td>47</td>\n",
       "      <td>93</td>\n",
       "      <td>79</td>\n",
       "      <td>52</td>\n",
       "      <td>350</td>\n",
       "    </tr>\n",
       "    <tr>\n",
       "      <th>5</th>\n",
       "      <td>esha</td>\n",
       "      <td>34</td>\n",
       "      <td>94</td>\n",
       "      <td>99</td>\n",
       "      <td>35</td>\n",
       "      <td>82</td>\n",
       "      <td>344</td>\n",
       "    </tr>\n",
       "    <tr>\n",
       "      <th>6</th>\n",
       "      <td>deepak</td>\n",
       "      <td>33</td>\n",
       "      <td>22</td>\n",
       "      <td>12</td>\n",
       "      <td>12</td>\n",
       "      <td>19</td>\n",
       "      <td>98</td>\n",
       "    </tr>\n",
       "    <tr>\n",
       "      <th>7</th>\n",
       "      <td>neeelam</td>\n",
       "      <td>95</td>\n",
       "      <td>89</td>\n",
       "      <td>58</td>\n",
       "      <td>57</td>\n",
       "      <td>57</td>\n",
       "      <td>356</td>\n",
       "    </tr>\n",
       "    <tr>\n",
       "      <th>8</th>\n",
       "      <td>bunty</td>\n",
       "      <td>41</td>\n",
       "      <td>41</td>\n",
       "      <td>58</td>\n",
       "      <td>33</td>\n",
       "      <td>75</td>\n",
       "      <td>248</td>\n",
       "    </tr>\n",
       "    <tr>\n",
       "      <th>9</th>\n",
       "      <td>vishal</td>\n",
       "      <td>43</td>\n",
       "      <td>62</td>\n",
       "      <td>58</td>\n",
       "      <td>83</td>\n",
       "      <td>39</td>\n",
       "      <td>285</td>\n",
       "    </tr>\n",
       "  </tbody>\n",
       "</table>\n",
       "</div>"
      ],
      "text/plain": [
       "      Name  Hindi  sst  Science  Maths  Eng  Total\n",
       "0      Raj     91   65       78     38   62    334\n",
       "1     ravi     77   33       54     79   93    336\n",
       "2     sonu     33   22       12     18   19    104\n",
       "3     monu     67   69       34     47   53    270\n",
       "4    rishi     79   47       93     79   52    350\n",
       "5     esha     34   94       99     35   82    344\n",
       "6   deepak     33   22       12     12   19     98\n",
       "7  neeelam     95   89       58     57   57    356\n",
       "8    bunty     41   41       58     33   75    248\n",
       "9   vishal     43   62       58     83   39    285"
      ]
     },
     "execution_count": 48,
     "metadata": {},
     "output_type": "execute_result"
    }
   ],
   "source": [
    "df3"
   ]
  },
  {
   "cell_type": "code",
   "execution_count": 49,
   "id": "8fdd06c9",
   "metadata": {},
   "outputs": [],
   "source": [
    "t_3=df3['Total']/5\n"
   ]
  },
  {
   "cell_type": "code",
   "execution_count": 50,
   "id": "b7320048",
   "metadata": {},
   "outputs": [],
   "source": [
    "t_4 =list(t_3)\n"
   ]
  },
  {
   "cell_type": "code",
   "execution_count": 51,
   "id": "f749ced8",
   "metadata": {},
   "outputs": [
    {
     "data": {
      "text/plain": [
       "[66.8, 67.2, 20.8, 54.0, 70.0, 68.8, 19.6, 71.2, 49.6, 57.0]"
      ]
     },
     "execution_count": 51,
     "metadata": {},
     "output_type": "execute_result"
    }
   ],
   "source": [
    "p=df3['P']=t_4\n",
    "p"
   ]
  },
  {
   "cell_type": "code",
   "execution_count": null,
   "id": "a218f2fb",
   "metadata": {},
   "outputs": [],
   "source": []
  },
  {
   "cell_type": "code",
   "execution_count": 52,
   "id": "7340434a",
   "metadata": {},
   "outputs": [
    {
     "data": {
      "text/html": [
       "<div>\n",
       "<style scoped>\n",
       "    .dataframe tbody tr th:only-of-type {\n",
       "        vertical-align: middle;\n",
       "    }\n",
       "\n",
       "    .dataframe tbody tr th {\n",
       "        vertical-align: top;\n",
       "    }\n",
       "\n",
       "    .dataframe thead th {\n",
       "        text-align: right;\n",
       "    }\n",
       "</style>\n",
       "<table border=\"1\" class=\"dataframe\">\n",
       "  <thead>\n",
       "    <tr style=\"text-align: right;\">\n",
       "      <th></th>\n",
       "      <th>Name</th>\n",
       "      <th>Hindi</th>\n",
       "      <th>sst</th>\n",
       "      <th>Science</th>\n",
       "      <th>Maths</th>\n",
       "      <th>Eng</th>\n",
       "      <th>Total</th>\n",
       "      <th>P</th>\n",
       "    </tr>\n",
       "  </thead>\n",
       "  <tbody>\n",
       "    <tr>\n",
       "      <th>0</th>\n",
       "      <td>Raj</td>\n",
       "      <td>91</td>\n",
       "      <td>65</td>\n",
       "      <td>78</td>\n",
       "      <td>38</td>\n",
       "      <td>62</td>\n",
       "      <td>334</td>\n",
       "      <td>66.8</td>\n",
       "    </tr>\n",
       "    <tr>\n",
       "      <th>1</th>\n",
       "      <td>ravi</td>\n",
       "      <td>77</td>\n",
       "      <td>33</td>\n",
       "      <td>54</td>\n",
       "      <td>79</td>\n",
       "      <td>93</td>\n",
       "      <td>336</td>\n",
       "      <td>67.2</td>\n",
       "    </tr>\n",
       "    <tr>\n",
       "      <th>2</th>\n",
       "      <td>sonu</td>\n",
       "      <td>33</td>\n",
       "      <td>22</td>\n",
       "      <td>12</td>\n",
       "      <td>18</td>\n",
       "      <td>19</td>\n",
       "      <td>104</td>\n",
       "      <td>20.8</td>\n",
       "    </tr>\n",
       "    <tr>\n",
       "      <th>3</th>\n",
       "      <td>monu</td>\n",
       "      <td>67</td>\n",
       "      <td>69</td>\n",
       "      <td>34</td>\n",
       "      <td>47</td>\n",
       "      <td>53</td>\n",
       "      <td>270</td>\n",
       "      <td>54.0</td>\n",
       "    </tr>\n",
       "    <tr>\n",
       "      <th>4</th>\n",
       "      <td>rishi</td>\n",
       "      <td>79</td>\n",
       "      <td>47</td>\n",
       "      <td>93</td>\n",
       "      <td>79</td>\n",
       "      <td>52</td>\n",
       "      <td>350</td>\n",
       "      <td>70.0</td>\n",
       "    </tr>\n",
       "    <tr>\n",
       "      <th>5</th>\n",
       "      <td>esha</td>\n",
       "      <td>34</td>\n",
       "      <td>94</td>\n",
       "      <td>99</td>\n",
       "      <td>35</td>\n",
       "      <td>82</td>\n",
       "      <td>344</td>\n",
       "      <td>68.8</td>\n",
       "    </tr>\n",
       "    <tr>\n",
       "      <th>6</th>\n",
       "      <td>deepak</td>\n",
       "      <td>33</td>\n",
       "      <td>22</td>\n",
       "      <td>12</td>\n",
       "      <td>12</td>\n",
       "      <td>19</td>\n",
       "      <td>98</td>\n",
       "      <td>19.6</td>\n",
       "    </tr>\n",
       "    <tr>\n",
       "      <th>7</th>\n",
       "      <td>neeelam</td>\n",
       "      <td>95</td>\n",
       "      <td>89</td>\n",
       "      <td>58</td>\n",
       "      <td>57</td>\n",
       "      <td>57</td>\n",
       "      <td>356</td>\n",
       "      <td>71.2</td>\n",
       "    </tr>\n",
       "    <tr>\n",
       "      <th>8</th>\n",
       "      <td>bunty</td>\n",
       "      <td>41</td>\n",
       "      <td>41</td>\n",
       "      <td>58</td>\n",
       "      <td>33</td>\n",
       "      <td>75</td>\n",
       "      <td>248</td>\n",
       "      <td>49.6</td>\n",
       "    </tr>\n",
       "    <tr>\n",
       "      <th>9</th>\n",
       "      <td>vishal</td>\n",
       "      <td>43</td>\n",
       "      <td>62</td>\n",
       "      <td>58</td>\n",
       "      <td>83</td>\n",
       "      <td>39</td>\n",
       "      <td>285</td>\n",
       "      <td>57.0</td>\n",
       "    </tr>\n",
       "  </tbody>\n",
       "</table>\n",
       "</div>"
      ],
      "text/plain": [
       "      Name  Hindi  sst  Science  Maths  Eng  Total     P\n",
       "0      Raj     91   65       78     38   62    334  66.8\n",
       "1     ravi     77   33       54     79   93    336  67.2\n",
       "2     sonu     33   22       12     18   19    104  20.8\n",
       "3     monu     67   69       34     47   53    270  54.0\n",
       "4    rishi     79   47       93     79   52    350  70.0\n",
       "5     esha     34   94       99     35   82    344  68.8\n",
       "6   deepak     33   22       12     12   19     98  19.6\n",
       "7  neeelam     95   89       58     57   57    356  71.2\n",
       "8    bunty     41   41       58     33   75    248  49.6\n",
       "9   vishal     43   62       58     83   39    285  57.0"
      ]
     },
     "execution_count": 52,
     "metadata": {},
     "output_type": "execute_result"
    }
   ],
   "source": [
    "df3"
   ]
  },
  {
   "cell_type": "code",
   "execution_count": 60,
   "id": "ac58a559",
   "metadata": {},
   "outputs": [],
   "source": [
    "def grade(Percentage):\n",
    "    if Percentage >= 70 and Percentage <= 100:\n",
    "        return 'A'\n",
    "    elif Percentage >= 60 and Percentage < 70:\n",
    "        return 'B'\n",
    "    elif Percentage >= 40 and Percentage < 60:\n",
    "        return 'C'\n",
    "    else:\n",
    "        return 'Fail'\n"
   ]
  },
  {
   "cell_type": "code",
   "execution_count": 61,
   "id": "bd6e54c8",
   "metadata": {},
   "outputs": [],
   "source": [
    "df3['Grade']=df3['P'].apply(grade)"
   ]
  },
  {
   "cell_type": "code",
   "execution_count": 62,
   "id": "2d0fb394",
   "metadata": {},
   "outputs": [
    {
     "data": {
      "text/html": [
       "<div>\n",
       "<style scoped>\n",
       "    .dataframe tbody tr th:only-of-type {\n",
       "        vertical-align: middle;\n",
       "    }\n",
       "\n",
       "    .dataframe tbody tr th {\n",
       "        vertical-align: top;\n",
       "    }\n",
       "\n",
       "    .dataframe thead th {\n",
       "        text-align: right;\n",
       "    }\n",
       "</style>\n",
       "<table border=\"1\" class=\"dataframe\">\n",
       "  <thead>\n",
       "    <tr style=\"text-align: right;\">\n",
       "      <th></th>\n",
       "      <th>Name</th>\n",
       "      <th>Hindi</th>\n",
       "      <th>sst</th>\n",
       "      <th>Science</th>\n",
       "      <th>Maths</th>\n",
       "      <th>Eng</th>\n",
       "      <th>Total</th>\n",
       "      <th>P</th>\n",
       "      <th>Grade</th>\n",
       "    </tr>\n",
       "  </thead>\n",
       "  <tbody>\n",
       "    <tr>\n",
       "      <th>0</th>\n",
       "      <td>Raj</td>\n",
       "      <td>91</td>\n",
       "      <td>65</td>\n",
       "      <td>78</td>\n",
       "      <td>38</td>\n",
       "      <td>62</td>\n",
       "      <td>334</td>\n",
       "      <td>66.8</td>\n",
       "      <td>B</td>\n",
       "    </tr>\n",
       "    <tr>\n",
       "      <th>1</th>\n",
       "      <td>ravi</td>\n",
       "      <td>77</td>\n",
       "      <td>33</td>\n",
       "      <td>54</td>\n",
       "      <td>79</td>\n",
       "      <td>93</td>\n",
       "      <td>336</td>\n",
       "      <td>67.2</td>\n",
       "      <td>B</td>\n",
       "    </tr>\n",
       "    <tr>\n",
       "      <th>2</th>\n",
       "      <td>sonu</td>\n",
       "      <td>33</td>\n",
       "      <td>22</td>\n",
       "      <td>12</td>\n",
       "      <td>18</td>\n",
       "      <td>19</td>\n",
       "      <td>104</td>\n",
       "      <td>20.8</td>\n",
       "      <td>Fail</td>\n",
       "    </tr>\n",
       "    <tr>\n",
       "      <th>3</th>\n",
       "      <td>monu</td>\n",
       "      <td>67</td>\n",
       "      <td>69</td>\n",
       "      <td>34</td>\n",
       "      <td>47</td>\n",
       "      <td>53</td>\n",
       "      <td>270</td>\n",
       "      <td>54.0</td>\n",
       "      <td>C</td>\n",
       "    </tr>\n",
       "    <tr>\n",
       "      <th>4</th>\n",
       "      <td>rishi</td>\n",
       "      <td>79</td>\n",
       "      <td>47</td>\n",
       "      <td>93</td>\n",
       "      <td>79</td>\n",
       "      <td>52</td>\n",
       "      <td>350</td>\n",
       "      <td>70.0</td>\n",
       "      <td>A</td>\n",
       "    </tr>\n",
       "    <tr>\n",
       "      <th>5</th>\n",
       "      <td>esha</td>\n",
       "      <td>34</td>\n",
       "      <td>94</td>\n",
       "      <td>99</td>\n",
       "      <td>35</td>\n",
       "      <td>82</td>\n",
       "      <td>344</td>\n",
       "      <td>68.8</td>\n",
       "      <td>B</td>\n",
       "    </tr>\n",
       "    <tr>\n",
       "      <th>6</th>\n",
       "      <td>deepak</td>\n",
       "      <td>33</td>\n",
       "      <td>22</td>\n",
       "      <td>12</td>\n",
       "      <td>12</td>\n",
       "      <td>19</td>\n",
       "      <td>98</td>\n",
       "      <td>19.6</td>\n",
       "      <td>Fail</td>\n",
       "    </tr>\n",
       "    <tr>\n",
       "      <th>7</th>\n",
       "      <td>neeelam</td>\n",
       "      <td>95</td>\n",
       "      <td>89</td>\n",
       "      <td>58</td>\n",
       "      <td>57</td>\n",
       "      <td>57</td>\n",
       "      <td>356</td>\n",
       "      <td>71.2</td>\n",
       "      <td>A</td>\n",
       "    </tr>\n",
       "    <tr>\n",
       "      <th>8</th>\n",
       "      <td>bunty</td>\n",
       "      <td>41</td>\n",
       "      <td>41</td>\n",
       "      <td>58</td>\n",
       "      <td>33</td>\n",
       "      <td>75</td>\n",
       "      <td>248</td>\n",
       "      <td>49.6</td>\n",
       "      <td>C</td>\n",
       "    </tr>\n",
       "    <tr>\n",
       "      <th>9</th>\n",
       "      <td>vishal</td>\n",
       "      <td>43</td>\n",
       "      <td>62</td>\n",
       "      <td>58</td>\n",
       "      <td>83</td>\n",
       "      <td>39</td>\n",
       "      <td>285</td>\n",
       "      <td>57.0</td>\n",
       "      <td>C</td>\n",
       "    </tr>\n",
       "  </tbody>\n",
       "</table>\n",
       "</div>"
      ],
      "text/plain": [
       "      Name  Hindi  sst  Science  Maths  Eng  Total     P Grade\n",
       "0      Raj     91   65       78     38   62    334  66.8     B\n",
       "1     ravi     77   33       54     79   93    336  67.2     B\n",
       "2     sonu     33   22       12     18   19    104  20.8  Fail\n",
       "3     monu     67   69       34     47   53    270  54.0     C\n",
       "4    rishi     79   47       93     79   52    350  70.0     A\n",
       "5     esha     34   94       99     35   82    344  68.8     B\n",
       "6   deepak     33   22       12     12   19     98  19.6  Fail\n",
       "7  neeelam     95   89       58     57   57    356  71.2     A\n",
       "8    bunty     41   41       58     33   75    248  49.6     C\n",
       "9   vishal     43   62       58     83   39    285  57.0     C"
      ]
     },
     "execution_count": 62,
     "metadata": {},
     "output_type": "execute_result"
    }
   ],
   "source": [
    "df3"
   ]
  },
  {
   "cell_type": "code",
   "execution_count": null,
   "id": "a56b2048",
   "metadata": {},
   "outputs": [],
   "source": []
  },
  {
   "cell_type": "code",
   "execution_count": null,
   "id": "372a60fe",
   "metadata": {},
   "outputs": [],
   "source": []
  },
  {
   "cell_type": "code",
   "execution_count": null,
   "id": "5bf5dd97",
   "metadata": {},
   "outputs": [],
   "source": []
  },
  {
   "cell_type": "code",
   "execution_count": 8,
   "id": "cbf1ae1f",
   "metadata": {},
   "outputs": [
    {
     "data": {
      "text/plain": [
       "0     25000\n",
       "1     35000\n",
       "2     40000\n",
       "3     25000\n",
       "4     60000\n",
       "5     40000\n",
       "6     65000\n",
       "7     20000\n",
       "8     25000\n",
       "9     30000\n",
       "10    45000\n",
       "11    65000\n",
       "Name: salary, dtype: int64"
      ]
     },
     "execution_count": 8,
     "metadata": {},
     "output_type": "execute_result"
    }
   ],
   "source": [
    "s=df2['salary']\n",
    "s"
   ]
  },
  {
   "cell_type": "code",
   "execution_count": 9,
   "id": "f40e4b79",
   "metadata": {},
   "outputs": [
    {
     "data": {
      "text/plain": [
       "[25000,\n",
       " 35000,\n",
       " 40000,\n",
       " 25000,\n",
       " 60000,\n",
       " 40000,\n",
       " 65000,\n",
       " 20000,\n",
       " 25000,\n",
       " 30000,\n",
       " 45000,\n",
       " 65000]"
      ]
     },
     "execution_count": 9,
     "metadata": {},
     "output_type": "execute_result"
    }
   ],
   "source": [
    "b=list(s)\n",
    "b"
   ]
  },
  {
   "cell_type": "code",
   "execution_count": 10,
   "id": "bc4470f0",
   "metadata": {},
   "outputs": [
    {
     "data": {
      "text/plain": [
       "[4500.0,\n",
       " 6300.0,\n",
       " 7200.0,\n",
       " 4500.0,\n",
       " 10800.0,\n",
       " 7200.0,\n",
       " 11700.0,\n",
       " 3600.0,\n",
       " 4500.0,\n",
       " 5400.0,\n",
       " 8100.0,\n",
       " 11700.0]"
      ]
     },
     "execution_count": 10,
     "metadata": {},
     "output_type": "execute_result"
    }
   ],
   "source": [
    "b= list(map(lambda x:x*18/100,b))\n",
    "b"
   ]
  },
  {
   "cell_type": "code",
   "execution_count": 11,
   "id": "ebd2672c",
   "metadata": {},
   "outputs": [],
   "source": [
    "# Q__4"
   ]
  },
  {
   "cell_type": "code",
   "execution_count": 15,
   "id": "ceef58b1",
   "metadata": {},
   "outputs": [
    {
     "data": {
      "text/html": [
       "<div>\n",
       "<style scoped>\n",
       "    .dataframe tbody tr th:only-of-type {\n",
       "        vertical-align: middle;\n",
       "    }\n",
       "\n",
       "    .dataframe tbody tr th {\n",
       "        vertical-align: top;\n",
       "    }\n",
       "\n",
       "    .dataframe thead th {\n",
       "        text-align: right;\n",
       "    }\n",
       "</style>\n",
       "<table border=\"1\" class=\"dataframe\">\n",
       "  <thead>\n",
       "    <tr style=\"text-align: right;\">\n",
       "      <th></th>\n",
       "      <th>id</th>\n",
       "      <th>age</th>\n",
       "      <th>salary</th>\n",
       "    </tr>\n",
       "  </thead>\n",
       "  <tbody>\n",
       "    <tr>\n",
       "      <th>0</th>\n",
       "      <td>1010</td>\n",
       "      <td>22</td>\n",
       "      <td>25000</td>\n",
       "    </tr>\n",
       "    <tr>\n",
       "      <th>1</th>\n",
       "      <td>1012</td>\n",
       "      <td>35</td>\n",
       "      <td>35000</td>\n",
       "    </tr>\n",
       "    <tr>\n",
       "      <th>2</th>\n",
       "      <td>1014</td>\n",
       "      <td>30</td>\n",
       "      <td>40000</td>\n",
       "    </tr>\n",
       "    <tr>\n",
       "      <th>3</th>\n",
       "      <td>1016</td>\n",
       "      <td>50</td>\n",
       "      <td>25000</td>\n",
       "    </tr>\n",
       "    <tr>\n",
       "      <th>4</th>\n",
       "      <td>1020</td>\n",
       "      <td>30</td>\n",
       "      <td>60000</td>\n",
       "    </tr>\n",
       "    <tr>\n",
       "      <th>5</th>\n",
       "      <td>1018</td>\n",
       "      <td>40</td>\n",
       "      <td>40000</td>\n",
       "    </tr>\n",
       "    <tr>\n",
       "      <th>6</th>\n",
       "      <td>1022</td>\n",
       "      <td>28</td>\n",
       "      <td>65000</td>\n",
       "    </tr>\n",
       "    <tr>\n",
       "      <th>7</th>\n",
       "      <td>1022</td>\n",
       "      <td>20</td>\n",
       "      <td>20000</td>\n",
       "    </tr>\n",
       "    <tr>\n",
       "      <th>8</th>\n",
       "      <td>2020</td>\n",
       "      <td>20</td>\n",
       "      <td>25000</td>\n",
       "    </tr>\n",
       "    <tr>\n",
       "      <th>9</th>\n",
       "      <td>2022</td>\n",
       "      <td>35</td>\n",
       "      <td>30000</td>\n",
       "    </tr>\n",
       "    <tr>\n",
       "      <th>10</th>\n",
       "      <td>2028</td>\n",
       "      <td>45</td>\n",
       "      <td>45000</td>\n",
       "    </tr>\n",
       "    <tr>\n",
       "      <th>11</th>\n",
       "      <td>2026</td>\n",
       "      <td>45</td>\n",
       "      <td>65000</td>\n",
       "    </tr>\n",
       "  </tbody>\n",
       "</table>\n",
       "</div>"
      ],
      "text/plain": [
       "      id  age  salary\n",
       "0   1010   22   25000\n",
       "1   1012   35   35000\n",
       "2   1014   30   40000\n",
       "3   1016   50   25000\n",
       "4   1020   30   60000\n",
       "5   1018   40   40000\n",
       "6   1022   28   65000\n",
       "7   1022   20   20000\n",
       "8   2020   20   25000\n",
       "9   2022   35   30000\n",
       "10  2028   45   45000\n",
       "11  2026   45   65000"
      ]
     },
     "execution_count": 15,
     "metadata": {},
     "output_type": "execute_result"
    }
   ],
   "source": [
    "df2.select_dtypes(['int'])"
   ]
  },
  {
   "cell_type": "code",
   "execution_count": 16,
   "id": "9289619c",
   "metadata": {},
   "outputs": [
    {
     "data": {
      "text/html": [
       "<div>\n",
       "<style scoped>\n",
       "    .dataframe tbody tr th:only-of-type {\n",
       "        vertical-align: middle;\n",
       "    }\n",
       "\n",
       "    .dataframe tbody tr th {\n",
       "        vertical-align: top;\n",
       "    }\n",
       "\n",
       "    .dataframe thead th {\n",
       "        text-align: right;\n",
       "    }\n",
       "</style>\n",
       "<table border=\"1\" class=\"dataframe\">\n",
       "  <thead>\n",
       "    <tr style=\"text-align: right;\">\n",
       "      <th></th>\n",
       "      <th>contact</th>\n",
       "    </tr>\n",
       "  </thead>\n",
       "  <tbody>\n",
       "    <tr>\n",
       "      <th>0</th>\n",
       "      <td>NaN</td>\n",
       "    </tr>\n",
       "    <tr>\n",
       "      <th>1</th>\n",
       "      <td>NaN</td>\n",
       "    </tr>\n",
       "    <tr>\n",
       "      <th>2</th>\n",
       "      <td>NaN</td>\n",
       "    </tr>\n",
       "    <tr>\n",
       "      <th>3</th>\n",
       "      <td>NaN</td>\n",
       "    </tr>\n",
       "    <tr>\n",
       "      <th>4</th>\n",
       "      <td>NaN</td>\n",
       "    </tr>\n",
       "    <tr>\n",
       "      <th>5</th>\n",
       "      <td>NaN</td>\n",
       "    </tr>\n",
       "    <tr>\n",
       "      <th>6</th>\n",
       "      <td>NaN</td>\n",
       "    </tr>\n",
       "    <tr>\n",
       "      <th>7</th>\n",
       "      <td>NaN</td>\n",
       "    </tr>\n",
       "    <tr>\n",
       "      <th>8</th>\n",
       "      <td>121145.0</td>\n",
       "    </tr>\n",
       "    <tr>\n",
       "      <th>9</th>\n",
       "      <td>1212546.0</td>\n",
       "    </tr>\n",
       "    <tr>\n",
       "      <th>10</th>\n",
       "      <td>1211435.0</td>\n",
       "    </tr>\n",
       "    <tr>\n",
       "      <th>11</th>\n",
       "      <td>1213645.0</td>\n",
       "    </tr>\n",
       "  </tbody>\n",
       "</table>\n",
       "</div>"
      ],
      "text/plain": [
       "      contact\n",
       "0         NaN\n",
       "1         NaN\n",
       "2         NaN\n",
       "3         NaN\n",
       "4         NaN\n",
       "5         NaN\n",
       "6         NaN\n",
       "7         NaN\n",
       "8    121145.0\n",
       "9   1212546.0\n",
       "10  1211435.0\n",
       "11  1213645.0"
      ]
     },
     "execution_count": 16,
     "metadata": {},
     "output_type": "execute_result"
    }
   ],
   "source": [
    "df2.select_dtypes(['float'])"
   ]
  },
  {
   "cell_type": "code",
   "execution_count": 20,
   "id": "6bb6fb56",
   "metadata": {},
   "outputs": [
    {
     "data": {
      "text/html": [
       "<div>\n",
       "<style scoped>\n",
       "    .dataframe tbody tr th:only-of-type {\n",
       "        vertical-align: middle;\n",
       "    }\n",
       "\n",
       "    .dataframe tbody tr th {\n",
       "        vertical-align: top;\n",
       "    }\n",
       "\n",
       "    .dataframe thead th {\n",
       "        text-align: right;\n",
       "    }\n",
       "</style>\n",
       "<table border=\"1\" class=\"dataframe\">\n",
       "  <thead>\n",
       "    <tr style=\"text-align: right;\">\n",
       "      <th></th>\n",
       "      <th>id</th>\n",
       "      <th>lastname</th>\n",
       "      <th>age</th>\n",
       "      <th>salary</th>\n",
       "      <th>contact</th>\n",
       "      <th>E_Mail</th>\n",
       "    </tr>\n",
       "    <tr>\n",
       "      <th>name</th>\n",
       "      <th></th>\n",
       "      <th></th>\n",
       "      <th></th>\n",
       "      <th></th>\n",
       "      <th></th>\n",
       "      <th></th>\n",
       "    </tr>\n",
       "  </thead>\n",
       "  <tbody>\n",
       "    <tr>\n",
       "      <th>rahul</th>\n",
       "      <td>1010</td>\n",
       "      <td>singh</td>\n",
       "      <td>22</td>\n",
       "      <td>25000</td>\n",
       "      <td>NaN</td>\n",
       "      <td>None</td>\n",
       "    </tr>\n",
       "    <tr>\n",
       "      <th>tarun</th>\n",
       "      <td>1012</td>\n",
       "      <td>sharma</td>\n",
       "      <td>35</td>\n",
       "      <td>35000</td>\n",
       "      <td>NaN</td>\n",
       "      <td>None</td>\n",
       "    </tr>\n",
       "    <tr>\n",
       "      <th>esha</th>\n",
       "      <td>1014</td>\n",
       "      <td>chadda</td>\n",
       "      <td>30</td>\n",
       "      <td>40000</td>\n",
       "      <td>NaN</td>\n",
       "      <td>None</td>\n",
       "    </tr>\n",
       "    <tr>\n",
       "      <th>aman</th>\n",
       "      <td>1016</td>\n",
       "      <td>sharma</td>\n",
       "      <td>50</td>\n",
       "      <td>25000</td>\n",
       "      <td>NaN</td>\n",
       "      <td>None</td>\n",
       "    </tr>\n",
       "    <tr>\n",
       "      <th>amar</th>\n",
       "      <td>1020</td>\n",
       "      <td>khuran</td>\n",
       "      <td>30</td>\n",
       "      <td>60000</td>\n",
       "      <td>NaN</td>\n",
       "      <td>None</td>\n",
       "    </tr>\n",
       "    <tr>\n",
       "      <th>monu</th>\n",
       "      <td>1018</td>\n",
       "      <td>gautam</td>\n",
       "      <td>40</td>\n",
       "      <td>40000</td>\n",
       "      <td>NaN</td>\n",
       "      <td>None</td>\n",
       "    </tr>\n",
       "    <tr>\n",
       "      <th>harsh</th>\n",
       "      <td>1022</td>\n",
       "      <td>sharma</td>\n",
       "      <td>28</td>\n",
       "      <td>65000</td>\n",
       "      <td>NaN</td>\n",
       "      <td>None</td>\n",
       "    </tr>\n",
       "    <tr>\n",
       "      <th>bunty</th>\n",
       "      <td>1022</td>\n",
       "      <td>singh</td>\n",
       "      <td>20</td>\n",
       "      <td>20000</td>\n",
       "      <td>NaN</td>\n",
       "      <td>None</td>\n",
       "    </tr>\n",
       "    <tr>\n",
       "      <th>deepak</th>\n",
       "      <td>2020</td>\n",
       "      <td>sharma</td>\n",
       "      <td>20</td>\n",
       "      <td>25000</td>\n",
       "      <td>121145.0</td>\n",
       "      <td>None</td>\n",
       "    </tr>\n",
       "    <tr>\n",
       "      <th>sandeep</th>\n",
       "      <td>2022</td>\n",
       "      <td>chauhan</td>\n",
       "      <td>35</td>\n",
       "      <td>30000</td>\n",
       "      <td>1212546.0</td>\n",
       "      <td>None</td>\n",
       "    </tr>\n",
       "    <tr>\n",
       "      <th>sonu</th>\n",
       "      <td>2028</td>\n",
       "      <td>chadda</td>\n",
       "      <td>45</td>\n",
       "      <td>45000</td>\n",
       "      <td>1211435.0</td>\n",
       "      <td>None</td>\n",
       "    </tr>\n",
       "    <tr>\n",
       "      <th>harsh</th>\n",
       "      <td>2026</td>\n",
       "      <td>chauhan</td>\n",
       "      <td>45</td>\n",
       "      <td>65000</td>\n",
       "      <td>1213645.0</td>\n",
       "      <td>None</td>\n",
       "    </tr>\n",
       "  </tbody>\n",
       "</table>\n",
       "</div>"
      ],
      "text/plain": [
       "           id lastname  age  salary    contact E_Mail\n",
       "name                                                 \n",
       "rahul    1010    singh   22   25000        NaN   None\n",
       "tarun    1012   sharma   35   35000        NaN   None\n",
       "esha     1014   chadda   30   40000        NaN   None\n",
       "aman     1016   sharma   50   25000        NaN   None\n",
       "amar     1020   khuran   30   60000        NaN   None\n",
       "monu     1018   gautam   40   40000        NaN   None\n",
       "harsh    1022   sharma   28   65000        NaN   None\n",
       "bunty    1022    singh   20   20000        NaN   None\n",
       "deepak   2020   sharma   20   25000   121145.0   None\n",
       "sandeep  2022  chauhan   35   30000  1212546.0   None\n",
       "sonu     2028   chadda   45   45000  1211435.0   None\n",
       "harsh    2026  chauhan   45   65000  1213645.0   None"
      ]
     },
     "execution_count": 20,
     "metadata": {},
     "output_type": "execute_result"
    }
   ],
   "source": [
    "t=df2.set_index('name')\n",
    "t"
   ]
  },
  {
   "cell_type": "code",
   "execution_count": 21,
   "id": "f526917c",
   "metadata": {},
   "outputs": [
    {
     "data": {
      "text/plain": [
       "Index(['id', 'lastname', 'age', 'salary', 'contact', 'E_Mail'], dtype='object')"
      ]
     },
     "execution_count": 21,
     "metadata": {},
     "output_type": "execute_result"
    }
   ],
   "source": [
    "t.columns"
   ]
  },
  {
   "cell_type": "code",
   "execution_count": 23,
   "id": "a252be1d",
   "metadata": {},
   "outputs": [
    {
     "data": {
      "text/html": [
       "<div>\n",
       "<style scoped>\n",
       "    .dataframe tbody tr th:only-of-type {\n",
       "        vertical-align: middle;\n",
       "    }\n",
       "\n",
       "    .dataframe tbody tr th {\n",
       "        vertical-align: top;\n",
       "    }\n",
       "\n",
       "    .dataframe thead th {\n",
       "        text-align: right;\n",
       "    }\n",
       "</style>\n",
       "<table border=\"1\" class=\"dataframe\">\n",
       "  <thead>\n",
       "    <tr style=\"text-align: right;\">\n",
       "      <th></th>\n",
       "      <th>id</th>\n",
       "      <th>name</th>\n",
       "      <th>lastname</th>\n",
       "      <th>age</th>\n",
       "      <th>salary</th>\n",
       "      <th>contact</th>\n",
       "      <th>E_Mail</th>\n",
       "    </tr>\n",
       "  </thead>\n",
       "  <tbody>\n",
       "    <tr>\n",
       "      <th>0</th>\n",
       "      <td>1010</td>\n",
       "      <td>rahul</td>\n",
       "      <td>singh</td>\n",
       "      <td>22</td>\n",
       "      <td>25000</td>\n",
       "      <td>NaN</td>\n",
       "      <td>None</td>\n",
       "    </tr>\n",
       "    <tr>\n",
       "      <th>1</th>\n",
       "      <td>1012</td>\n",
       "      <td>tarun</td>\n",
       "      <td>sharma</td>\n",
       "      <td>35</td>\n",
       "      <td>35000</td>\n",
       "      <td>NaN</td>\n",
       "      <td>None</td>\n",
       "    </tr>\n",
       "    <tr>\n",
       "      <th>2</th>\n",
       "      <td>1014</td>\n",
       "      <td>esha</td>\n",
       "      <td>chadda</td>\n",
       "      <td>30</td>\n",
       "      <td>40000</td>\n",
       "      <td>NaN</td>\n",
       "      <td>None</td>\n",
       "    </tr>\n",
       "    <tr>\n",
       "      <th>3</th>\n",
       "      <td>1016</td>\n",
       "      <td>aman</td>\n",
       "      <td>sharma</td>\n",
       "      <td>50</td>\n",
       "      <td>25000</td>\n",
       "      <td>NaN</td>\n",
       "      <td>None</td>\n",
       "    </tr>\n",
       "    <tr>\n",
       "      <th>4</th>\n",
       "      <td>1020</td>\n",
       "      <td>amar</td>\n",
       "      <td>khuran</td>\n",
       "      <td>30</td>\n",
       "      <td>60000</td>\n",
       "      <td>NaN</td>\n",
       "      <td>None</td>\n",
       "    </tr>\n",
       "  </tbody>\n",
       "</table>\n",
       "</div>"
      ],
      "text/plain": [
       "     id   name lastname  age  salary  contact E_Mail\n",
       "0  1010  rahul    singh   22   25000      NaN   None\n",
       "1  1012  tarun   sharma   35   35000      NaN   None\n",
       "2  1014   esha   chadda   30   40000      NaN   None\n",
       "3  1016   aman   sharma   50   25000      NaN   None\n",
       "4  1020   amar   khuran   30   60000      NaN   None"
      ]
     },
     "execution_count": 23,
     "metadata": {},
     "output_type": "execute_result"
    }
   ],
   "source": [
    "df2.head()"
   ]
  },
  {
   "cell_type": "code",
   "execution_count": 24,
   "id": "cc415e94",
   "metadata": {},
   "outputs": [],
   "source": [
    "# series\n",
    "# data frame"
   ]
  },
  {
   "cell_type": "code",
   "execution_count": 27,
   "id": "800fb235",
   "metadata": {},
   "outputs": [
    {
     "data": {
      "text/plain": [
       "0     25000\n",
       "1     35000\n",
       "2     40000\n",
       "3     25000\n",
       "4     60000\n",
       "5     40000\n",
       "6     65000\n",
       "7     20000\n",
       "8     25000\n",
       "9     30000\n",
       "10    45000\n",
       "11    65000\n",
       "Name: salary, dtype: int64"
      ]
     },
     "execution_count": 27,
     "metadata": {},
     "output_type": "execute_result"
    }
   ],
   "source": [
    "t1=df2['salary']\n",
    "t1"
   ]
  },
  {
   "cell_type": "code",
   "execution_count": 29,
   "id": "13d76eef",
   "metadata": {},
   "outputs": [
    {
     "data": {
      "text/plain": [
       "pandas.core.series.Series"
      ]
     },
     "execution_count": 29,
     "metadata": {},
     "output_type": "execute_result"
    }
   ],
   "source": [
    "type(t1)"
   ]
  },
  {
   "cell_type": "code",
   "execution_count": 30,
   "id": "591cd427",
   "metadata": {},
   "outputs": [],
   "source": [
    "import numpy as np"
   ]
  },
  {
   "cell_type": "code",
   "execution_count": 32,
   "id": "fcb5f063",
   "metadata": {},
   "outputs": [
    {
     "data": {
      "text/plain": [
       "array([4, 5, 6, 7, 8])"
      ]
     },
     "execution_count": 32,
     "metadata": {},
     "output_type": "execute_result"
    }
   ],
   "source": [
    "s = np.array([4,5,6,7,8])\n",
    "s"
   ]
  },
  {
   "cell_type": "code",
   "execution_count": 34,
   "id": "37fc47b3",
   "metadata": {},
   "outputs": [
    {
     "data": {
      "text/plain": [
       "array([ 2,  3,  6,  7, 10])"
      ]
     },
     "execution_count": 34,
     "metadata": {},
     "output_type": "execute_result"
    }
   ],
   "source": [
    "s2 = np.array([2,3,6,7,10])\n",
    "s2\n"
   ]
  },
  {
   "cell_type": "code",
   "execution_count": 36,
   "id": "bc22ffd7",
   "metadata": {},
   "outputs": [
    {
     "data": {
      "text/plain": [
       "1"
      ]
     },
     "execution_count": 36,
     "metadata": {},
     "output_type": "execute_result"
    }
   ],
   "source": [
    "s.ndim"
   ]
  },
  {
   "cell_type": "code",
   "execution_count": 37,
   "id": "e811c122",
   "metadata": {},
   "outputs": [
    {
     "data": {
      "text/plain": [
       "1"
      ]
     },
     "execution_count": 37,
     "metadata": {},
     "output_type": "execute_result"
    }
   ],
   "source": [
    "s2.ndim"
   ]
  },
  {
   "cell_type": "code",
   "execution_count": 38,
   "id": "8d07ace2",
   "metadata": {},
   "outputs": [
    {
     "data": {
      "text/plain": [
       "array([ 6,  8, 12, 14, 18])"
      ]
     },
     "execution_count": 38,
     "metadata": {},
     "output_type": "execute_result"
    }
   ],
   "source": [
    "s+s2"
   ]
  },
  {
   "cell_type": "code",
   "execution_count": 40,
   "id": "da50c2c9",
   "metadata": {},
   "outputs": [
    {
     "data": {
      "text/plain": [
       "A    4\n",
       "B    5\n",
       "C    6\n",
       "D    7\n",
       "E    8\n",
       "dtype: int64"
      ]
     },
     "execution_count": 40,
     "metadata": {},
     "output_type": "execute_result"
    }
   ],
   "source": [
    "h =pd.Series([4,5,6,7,8],index=['A','B','C','D','E'])\n",
    "h"
   ]
  },
  {
   "cell_type": "code",
   "execution_count": 41,
   "id": "d59208c7",
   "metadata": {},
   "outputs": [
    {
     "data": {
      "text/plain": [
       "1"
      ]
     },
     "execution_count": 41,
     "metadata": {},
     "output_type": "execute_result"
    }
   ],
   "source": [
    "h.ndim"
   ]
  },
  {
   "cell_type": "code",
   "execution_count": 42,
   "id": "2a8e6663",
   "metadata": {},
   "outputs": [
    {
     "data": {
      "text/plain": [
       "x    1\n",
       "B    3\n",
       "C    5\n",
       "f    6\n",
       "r    2\n",
       "dtype: int64"
      ]
     },
     "execution_count": 42,
     "metadata": {},
     "output_type": "execute_result"
    }
   ],
   "source": [
    "h2 =pd.Series([1,3,5,6,2],index=['x','B','C','f','r'])\n",
    "h2"
   ]
  },
  {
   "cell_type": "code",
   "execution_count": 43,
   "id": "7adab568",
   "metadata": {},
   "outputs": [
    {
     "data": {
      "text/plain": [
       "A     NaN\n",
       "B     8.0\n",
       "C    11.0\n",
       "D     NaN\n",
       "E     NaN\n",
       "f     NaN\n",
       "r     NaN\n",
       "x     NaN\n",
       "dtype: float64"
      ]
     },
     "execution_count": 43,
     "metadata": {},
     "output_type": "execute_result"
    }
   ],
   "source": [
    "h+h2"
   ]
  },
  {
   "cell_type": "code",
   "execution_count": 50,
   "id": "793d2ec7",
   "metadata": {},
   "outputs": [],
   "source": [
    "#__Q 5\n",
    "# # YEH PANDAS KI  SERIES KI HELP SE Visualization kiya \n",
    "#__Name wise "
   ]
  },
  {
   "cell_type": "code",
   "execution_count": 51,
   "id": "100e1e13",
   "metadata": {},
   "outputs": [
    {
     "data": {
      "text/plain": [
       "[25000,\n",
       " 35000,\n",
       " 40000,\n",
       " 25000,\n",
       " 60000,\n",
       " 40000,\n",
       " 65000,\n",
       " 20000,\n",
       " 25000,\n",
       " 30000,\n",
       " 45000,\n",
       " 65000]"
      ]
     },
     "execution_count": 51,
     "metadata": {},
     "output_type": "execute_result"
    }
   ],
   "source": [
    "ss=df2['salary']\n",
    "t2 = list(ss)\n",
    "t2"
   ]
  },
  {
   "cell_type": "code",
   "execution_count": 52,
   "id": "d19d2b1f",
   "metadata": {},
   "outputs": [
    {
     "data": {
      "text/plain": [
       "['rahul',\n",
       " 'tarun',\n",
       " 'esha',\n",
       " 'aman',\n",
       " 'amar',\n",
       " 'monu',\n",
       " 'harsh',\n",
       " 'bunty',\n",
       " 'deepak',\n",
       " 'sandeep',\n",
       " 'sonu',\n",
       " 'harsh']"
      ]
     },
     "execution_count": 52,
     "metadata": {},
     "output_type": "execute_result"
    }
   ],
   "source": [
    "sss=df2['name']\n",
    "t3 = list(sss)\n",
    "t3"
   ]
  },
  {
   "cell_type": "code",
   "execution_count": 53,
   "id": "ec529642",
   "metadata": {},
   "outputs": [
    {
     "data": {
      "text/plain": [
       "rahul      25000\n",
       "tarun      35000\n",
       "esha       40000\n",
       "aman       25000\n",
       "amar       60000\n",
       "monu       40000\n",
       "harsh      65000\n",
       "bunty      20000\n",
       "deepak     25000\n",
       "sandeep    30000\n",
       "sonu       45000\n",
       "harsh      65000\n",
       "dtype: int64"
      ]
     },
     "execution_count": 53,
     "metadata": {},
     "output_type": "execute_result"
    }
   ],
   "source": [
    "tff = pd.Series(t2,index=t3)\n",
    "tff"
   ]
  },
  {
   "cell_type": "code",
   "execution_count": 54,
   "id": "b0ebd397",
   "metadata": {},
   "outputs": [
    {
     "data": {
      "text/plain": [
       "<Axes: >"
      ]
     },
     "execution_count": 54,
     "metadata": {},
     "output_type": "execute_result"
    },
    {
     "data": {
      "image/png": "[encoded data removed]",
      "text/plain": [
       "<Figure size 640x480 with 1 Axes>"
      ]
     },
     "metadata": {},
     "output_type": "display_data"
    }
   ],
   "source": [
    "tff.plot.bar()"
   ]
  },
  {
   "cell_type": "code",
   "execution_count": null,
   "id": "72cccdc5",
   "metadata": {},
   "outputs": [],
   "source": []
  },
  {
   "cell_type": "code",
   "execution_count": null,
   "id": "e01babde",
   "metadata": {},
   "outputs": [],
   "source": []
  }
 ],
 "metadata": {
  "kernelspec": {
   "display_name": "Python 3 (ipykernel)",
   "language": "python",
   "name": "python3"
  },
  "language_info": {
   "codemirror_mode": {
    "name": "ipython",
    "version": 3
   },
   "file_extension": ".py",
   "mimetype": "text/x-python",
   "name": "python",
   "nbconvert_exporter": "python",
   "pygments_lexer": "ipython3",
   "version": "3.11.5"
  }
 },
 "nbformat": 4,
 "nbformat_minor": 5
}
